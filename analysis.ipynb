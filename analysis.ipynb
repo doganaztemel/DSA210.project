{
 "cells": [
  {
   "cell_type": "markdown",
   "id": "90903c5b",
   "metadata": {},
   "source": [
    "DSA 210 Intro to Data Science – Automated EDA + Tests + Tuning"
   ]
  },
  {
   "cell_type": "markdown",
   "id": "fa2acb53",
   "metadata": {},
   "source": [
    "Research Question: GDP per Capita vs Women's Tertiary Education"
   ]
  },
  {
   "cell_type": "markdown",
   "id": "5f6dbd92",
   "metadata": {},
   "source": [
    "\n",
    "Updated includes p-value interpretations and detailed summaries"
   ]
  },
  {
   "cell_type": "markdown",
   "id": "f5064419",
   "metadata": {},
   "source": [
    "Required Libraries For Analysis"
   ]
  },
  {
   "cell_type": "code",
   "execution_count": 1,
   "id": "fdb8c29b",
   "metadata": {},
   "outputs": [],
   "source": [
    "import os\n",
    "import pandas as pd\n",
    "import numpy as np\n",
    "import matplotlib.pyplot as plt\n",
    "from scipy import stats\n",
    "from sklearn.model_selection import train_test_split, GridSearchCV, KFold\n",
    "from sklearn.ensemble import RandomForestRegressor\n",
    "from sklearn.preprocessing import StandardScaler\n",
    "from sklearn.pipeline import Pipeline\n",
    "from sklearn.metrics import mean_squared_error, r2_score\n",
    "from sklearn.linear_model import LinearRegression\n",
    "from sklearn.tree import DecisionTreeRegressor\n",
    "from sklearn.svm import SVR"
   ]
  },
  {
   "cell_type": "markdown",
   "id": "1eabf581",
   "metadata": {},
   "source": [
    "Part 1 - Initial Data Preparation"
   ]
  },
  {
   "cell_type": "markdown",
   "id": "be1905f4",
   "metadata": {},
   "source": [
    "Step 1 - Output folder creation if not exists"
   ]
  },
  {
   "cell_type": "code",
   "execution_count": 2,
   "id": "f65c1179",
   "metadata": {},
   "outputs": [],
   "source": [
    "output_dir = \"output_files\"\n",
    "os.makedirs(output_dir, exist_ok=True)"
   ]
  },
  {
   "cell_type": "markdown",
   "id": "c0e4de2d",
   "metadata": {},
   "source": [
    "Step 2 - Loading Each Data And Showing Them"
   ]
  },
  {
   "cell_type": "code",
   "execution_count": 3,
   "id": "66a774a5",
   "metadata": {},
   "outputs": [
    {
     "name": "stdout",
     "output_type": "stream",
     "text": [
      "Loaded education: 37 rows x 8 columns\n",
      "  LOCATION INDICATOR    SUBJECT   MEASURE FREQUENCY  TIME      Value  \\\n",
      "0      AUS  EDUADULT  TRY_WOMEN  PC_25_64         A  2022  56.772099   \n",
      "1      AUT  EDUADULT  TRY_WOMEN  PC_25_64         A  2022  35.388458   \n",
      "\n",
      "   Flag Codes  \n",
      "0         NaN  \n",
      "1         NaN   \n",
      "\n",
      "Loaded gdp: 38 rows x 8 columns\n",
      "  LOCATION INDICATOR SUBJECT  MEASURE FREQUENCY  TIME         Value Flag Codes\n",
      "0      AUS       GDP     TOT  USD_CAP         A  2022  69418.944207        NaN\n",
      "1      AUT       GDP     TOT  USD_CAP         A  2022  67792.406005        NaN \n",
      "\n",
      "Loaded labour: 38 rows x 8 columns\n",
      "  LOCATION INDICATOR SUBJECT MEASURE FREQUENCY  TIME      Value  Flag Codes\n",
      "0      AUS      LFPR   25_64  PC_AGE         A  2022  82.315957         NaN\n",
      "1      AUT      LFPR   25_64  PC_AGE         A  2022  81.439449         NaN \n",
      "\n",
      "Loaded fertility: 38 rows x 8 columns\n",
      "  LOCATION  INDICATOR SUBJECT    MEASURE FREQUENCY  TIME  Value  Flag Codes\n",
      "0      AUS  FERTILITY     TOT  CHD_WOMAN         A  2021   1.70         NaN\n",
      "1      AUT  FERTILITY     TOT  CHD_WOMAN         A  2021   1.48         NaN \n",
      "\n"
     ]
    }
   ],
   "source": [
    "paths = {\n",
    "    'education': 'education.csv',\n",
    "    'gdp': 'gdp.csv',\n",
    "    'labour': 'labour.csv',\n",
    "    'fertility': 'fertility.csv'\n",
    "}\n",
    "\n",
    "data = {}\n",
    "for key, path in paths.items():\n",
    "    df = pd.read_csv(path, header=1)\n",
    "    print(f\"Loaded {key}: {df.shape[0]} rows x {df.shape[1]} columns\")\n",
    "    print(df.head(2), \"\\n\")\n",
    "    data[key] = df"
   ]
  },
  {
   "cell_type": "markdown",
   "id": "53e1d52c",
   "metadata": {},
   "source": [
    "Step 3 - Filtering and Renaming Indicators"
   ]
  },
  {
   "cell_type": "code",
   "execution_count": 4,
   "id": "a8ced3b2",
   "metadata": {},
   "outputs": [
    {
     "name": "stdout",
     "output_type": "stream",
     "text": [
      " - EDUADULT: years 2022 to 2022\n",
      " - GDP: years 2022 to 2022\n",
      " - LFPR: years 2022 to 2022\n",
      " - FERTILITY: years 2021 to 2021\n",
      "\n"
     ]
    }
   ],
   "source": [
    "def filter_indicator(df, indicator_col, code, value_name):\n",
    "    df = df[(df['INDICATOR']==code) & (df['FREQUENCY']=='A')]\n",
    "    year_min, year_max = df['TIME'].min(), df['TIME'].max()\n",
    "    print(f\" - {code}: years {int(year_min)} to {int(year_max)}\")\n",
    "    latest = df['TIME'].max()\n",
    "    df = df[df['TIME']==latest]\n",
    "    return df[['LOCATION','Value']].rename(columns={'LOCATION':'Country','Value':value_name})\n",
    "\n",
    "edu = filter_indicator(data['education'], 'INDICATOR', 'EDUADULT', 'Women_Edu_Pct')\n",
    "gdp = filter_indicator(data['gdp'],       'INDICATOR', 'GDP',      'GDP_Per_Capita_USD')\n",
    "lab = filter_indicator(data['labour'],    'INDICATOR', 'LFPR',     'Women_Emp_Pct')\n",
    "fert= filter_indicator(data['fertility'], 'INDICATOR', 'FERTILITY','Fertility_Rate')\n",
    "print()"
   ]
  },
  {
   "cell_type": "markdown",
   "id": "5b0a16a7",
   "metadata": {},
   "source": [
    "Step 4 - Merge and Clean the Data"
   ]
  },
  {
   "cell_type": "code",
   "execution_count": 5,
   "id": "a649ba07",
   "metadata": {},
   "outputs": [
    {
     "name": "stdout",
     "output_type": "stream",
     "text": [
      "After merging: 37 countries x 5 indicators\n",
      "  Country  Women_Edu_Pct  GDP_Per_Capita_USD  Women_Emp_Pct  Fertility_Rate\n",
      "0     AUS      56.772099        69418.944207      82.315957            1.70\n",
      "1     AUT      35.388458        67792.406005      81.439449            1.48\n",
      "2     BEL      50.180088        65509.386133      79.117335            1.60 \n",
      "\n"
     ]
    }
   ],
   "source": [
    "df = edu.merge(gdp, on='Country') \\\n",
    "        .merge(lab, on='Country') \\\n",
    "        .merge(fert, on='Country') \\\n",
    "        .dropna().reset_index(drop=True)\n",
    "\n",
    "print(f\"After merging: {df.shape[0]} countries x {df.shape[1]} indicators\")\n",
    "print(df.head(3), \"\\n\")\n",
    "\n",
    "# Ensure numeric types\n",
    "for col in df.columns[1:]:\n",
    "    df[col] = pd.to_numeric(df[col], errors='coerce')\n",
    "df.dropna(inplace=True)"
   ]
  },
  {
   "cell_type": "markdown",
   "id": "42e4a750",
   "metadata": {},
   "source": [
    "Step 5 - Save the Data"
   ]
  },
  {
   "cell_type": "code",
   "execution_count": 6,
   "id": "91613413",
   "metadata": {},
   "outputs": [
    {
     "name": "stdout",
     "output_type": "stream",
     "text": [
      "Merged data saved to: output_files\\processed_data.csv\n",
      "\n"
     ]
    }
   ],
   "source": [
    "merged_csv = os.path.join(output_dir, \"processed_data.csv\")\n",
    "df.to_csv(merged_csv, index=False)\n",
    "print(f\"Merged data saved to: {merged_csv}\\n\")"
   ]
  },
  {
   "cell_type": "markdown",
   "id": "831bcb76",
   "metadata": {},
   "source": [
    "Step 6 - Plotting the Data"
   ]
  },
  {
   "cell_type": "code",
   "execution_count": 7,
   "id": "8361ca22",
   "metadata": {},
   "outputs": [],
   "source": [
    "def create_histogram(data, column, title, xlabel, fname):\n",
    "    plt.figure(figsize=(8,5))\n",
    "    plt.hist(data[column], bins=8, edgecolor='black', color='skyblue')\n",
    "    plt.title(title)\n",
    "    plt.xlabel(xlabel)\n",
    "    plt.ylabel(\"Number of Countries\")\n",
    "    plt.grid(axis='y', linestyle='--', alpha=0.7)\n",
    "    plt.savefig(os.path.join(output_dir, fname))\n",
    "    plt.close()\n",
    "\n",
    "def create_top_bar(data, column, title, ylabel, fname, color):\n",
    "    top = data.nlargest(5, column)\n",
    "    bottom = data.nsmallest(5, column)\n",
    "    # Top 5\n",
    "    print(f\"Top 5 by {column}:\")\n",
    "    for i, row in top.iterrows():\n",
    "        print(f\" - {row['Country']}: {row[column]:.2f}\")\n",
    "    print(f\"Bottom 5 by {column}:\")\n",
    "    for i, row in bottom.iterrows():\n",
    "        print(f\" - {row['Country']}: {row[column]:.2f}\")\n",
    "    plt.figure(figsize=(10,6))\n",
    "    plt.bar(top['Country'], top[column], color=color)\n",
    "    plt.title(title)\n",
    "    plt.xlabel('Country')\n",
    "    plt.ylabel(ylabel)\n",
    "    plt.xticks(rotation=45, ha='right')\n",
    "    plt.tight_layout()\n",
    "    plt.grid(axis='y', linestyle='--', alpha=0.7)\n",
    "    plt.savefig(os.path.join(output_dir, fname))\n",
    "    plt.close()"
   ]
  },
  {
   "cell_type": "markdown",
   "id": "316c0c26",
   "metadata": {},
   "source": [
    "Step 7 - Original plots and Histograms"
   ]
  },
  {
   "cell_type": "code",
   "execution_count": 8,
   "id": "ed9c813f",
   "metadata": {},
   "outputs": [
    {
     "name": "stdout",
     "output_type": "stream",
     "text": [
      "Top 5 by Women_Edu_Pct:\n",
      " - CAN: 69.49\n",
      " - IRL: 58.12\n",
      " - JPN: 57.33\n",
      " - AUS: 56.77\n",
      " - SWE: 56.25\n",
      "Bottom 5 by Women_Edu_Pct:\n",
      " - MEX: 20.14\n",
      " - ITA: 23.53\n",
      " - TUR: 24.71\n",
      " - CRI: 27.57\n",
      " - CZE: 29.77\n",
      "Top 5 by GDP_Per_Capita_USD:\n",
      " - LUX: 140150.40\n",
      " - IRL: 127146.27\n",
      " - NOR: 114932.19\n",
      " - CHE: 84593.02\n",
      " - USA: 76291.02\n",
      "Bottom 5 by GDP_Per_Capita_USD:\n",
      " - COL: 20822.15\n",
      " - MEX: 21442.19\n",
      " - CRI: 24776.74\n",
      " - GRC: 36574.04\n",
      " - SVK: 37067.28\n"
     ]
    }
   ],
   "source": [
    "create_histogram(df, 'Women_Edu_Pct',\n",
    "    \"Distribution of Women's Tertiary Education\",\n",
    "    \"Percentage\", 'education_histogram.png')\n",
    "\n",
    "create_histogram(df, 'GDP_Per_Capita_USD',\n",
    "    \"Distribution of GDP Per Capita\",\n",
    "    \"USD\", 'gdp_histogram.png')\n",
    "\n",
    "plt.figure(figsize=(10,6))\n",
    "plt.scatter(df['GDP_Per_Capita_USD'], df['Women_Edu_Pct'], color='blue')\n",
    "for _, r in df.iterrows():\n",
    "    plt.text(r['GDP_Per_Capita_USD'], r['Women_Edu_Pct'], r['Country'], fontsize=7)\n",
    "plt.title(\"GDP Per Capita vs Women's Education\")\n",
    "plt.xlabel(\"GDP Per Capita (USD)\")\n",
    "plt.ylabel(\"Women's Education (%)\")\n",
    "plt.grid(True)\n",
    "plt.savefig(os.path.join(output_dir, 'gdp_vs_education.png'))\n",
    "plt.close()\n",
    "\n",
    "create_top_bar(df, 'Women_Edu_Pct',\n",
    "    \"Top & Bottom 5 Countries by Women's Education\",\n",
    "    \"% Education\", 'top_education_countries.png', color='purple')\n",
    "\n",
    "create_top_bar(df, 'GDP_Per_Capita_USD',\n",
    "    \"Top & Bottom 5 Countries by GDP Per Capita\",\n",
    "    \"USD\", 'top_gdp_countries.png', color='green')"
   ]
  },
  {
   "cell_type": "markdown",
   "id": "bf77800f",
   "metadata": {},
   "source": [
    "Relationship Grid"
   ]
  },
  {
   "cell_type": "code",
   "execution_count": 9,
   "id": "8e89c336",
   "metadata": {},
   "outputs": [],
   "source": [
    "plt.figure(figsize=(12,10))\n",
    "pairs = [\n",
    "    ('GDP_Per_Capita_USD','Women_Edu_Pct','GDP vs Education'),\n",
    "    ('Women_Emp_Pct','Women_Edu_Pct','Employment vs Education'),\n",
    "    ('Fertility_Rate','Women_Edu_Pct','Fertility vs Education'),\n",
    "    ('GDP_Per_Capita_USD','Women_Emp_Pct','GDP vs Employment')\n",
    "]\n",
    "for i, (x,y,ttl) in enumerate(pairs,1):\n",
    "    plt.subplot(2,2,i)\n",
    "    plt.scatter(df[x], df[y])\n",
    "    plt.title(ttl)\n",
    "    plt.xlabel(x)\n",
    "    plt.ylabel(y)\n",
    "    plt.grid(True)\n",
    "plt.tight_layout()\n",
    "plt.savefig(os.path.join(output_dir, 'relationship_plots.png'))\n",
    "plt.close()"
   ]
  },
  {
   "cell_type": "markdown",
   "id": "aa96fd77",
   "metadata": {},
   "source": [
    "EDA and Hypothesis Tests"
   ]
  },
  {
   "cell_type": "markdown",
   "id": "642a45a0",
   "metadata": {},
   "source": [
    "Test No 1: High vs Low GDP Groups"
   ]
  },
  {
   "cell_type": "code",
   "execution_count": null,
   "id": "b3734ec7",
   "metadata": {},
   "outputs": [
    {
     "name": "stdout",
     "output_type": "stream",
     "text": [
      "\n",
      "=== Correlation Matrix ===\n",
      "                    Women_Edu_Pct  GDP_Per_Capita_USD  Women_Emp_Pct  \\\n",
      "Women_Edu_Pct            1.000000            0.489428       0.511554   \n",
      "GDP_Per_Capita_USD       0.489428            1.000000       0.251782   \n",
      "Women_Emp_Pct            0.511554            0.251782       1.000000   \n",
      "Fertility_Rate           0.045708           -0.019028       0.033704   \n",
      "\n",
      "                    Fertility_Rate  \n",
      "Women_Edu_Pct             0.045708  \n",
      "GDP_Per_Capita_USD       -0.019028  \n",
      "Women_Emp_Pct             0.033704  \n",
      "Fertility_Rate            1.000000   \n",
      "\n",
      "Comparison of Women's Education between high- and low-GDP countries:\n",
      " - High-GDP (n=19): mean=48.60\n",
      " - Low-GDP  (n=18):  mean=40.53\n",
      " - t-statistic=2.209, p-value=0.0339\n",
      " - Difference is statistically significant (p<0.05)\n"
     ]
    }
   ],
   "source": [
    "print(\"\\n   Correlation Matrix\")\n",
    "corr = df.iloc[:,1:].corr()\n",
    "print(corr, \"\\n\")\n",
    "\n",
    "# Test 1: High vs Low GDP groups\n",
    "median_gdp = df['GDP_Per_Capita_USD'].median()\n",
    "high = df[df['GDP_Per_Capita_USD'] >= median_gdp]['Women_Edu_Pct']\n",
    "low  = df[df['GDP_Per_Capita_USD'] <  median_gdp]['Women_Edu_Pct']\n",
    "t1, p1 = stats.ttest_ind(high, low, equal_var=False)\n",
    "print(\"Comparison of Women's Education between high- and low-GDP countries:\")\n",
    "print(f\" - High-GDP (n={len(high)}): mean={high.mean():.2f}\")\n",
    "print(f\" - Low-GDP  (n={len(low)}):  mean={low.mean():.2f}\")\n",
    "print(f\" - t-statistic={t1:.3f}, p-value={p1:.4f}\")\n",
    "print(\" - Difference is statistically \" + (\"significant (p<0.05)\" if p1<0.05 else \"not significant (p>=0.05)\"))"
   ]
  },
  {
   "cell_type": "markdown",
   "id": "64548ed0",
   "metadata": {},
   "source": [
    "Test No 2: Correlation Significance"
   ]
  },
  {
   "cell_type": "code",
   "execution_count": 11,
   "id": "fbcde730",
   "metadata": {},
   "outputs": [
    {
     "name": "stdout",
     "output_type": "stream",
     "text": [
      "\n",
      "Pearson correlation between GDP and Women's Education:\n",
      " - r = 0.489, p-value = 0.0021\n",
      " - Correlation is statistically significant (p<0.05)\n"
     ]
    }
   ],
   "source": [
    "r, p2 = stats.pearsonr(df['GDP_Per_Capita_USD'], df['Women_Edu_Pct'])\n",
    "print(\"\\nPearson correlation between GDP and Women's Education:\")\n",
    "print(f\" - r = {r:.3f}, p-value = {p2:.4f}\")\n",
    "print(\" - Correlation is \" + (\"statistically significant (p<0.05)\" if p2<0.05 else \"not significant (p>=0.05)\"))"
   ]
  },
  {
   "cell_type": "markdown",
   "id": "372ba262",
   "metadata": {},
   "source": [
    "Random Forest regression with hyperparameter tuning"
   ]
  },
  {
   "cell_type": "code",
   "execution_count": 12,
   "id": "a10015a4",
   "metadata": {},
   "outputs": [
    {
     "name": "stdout",
     "output_type": "stream",
     "text": [
      "\n",
      "=== Random Forest CV Results ===\n",
      "Best params: {'rf__max_depth': 5, 'rf__min_samples_split': 5, 'rf__n_estimators': 100}\n",
      "Best CV R² : 0.095\n",
      "Test set R² = 0.824\n",
      "Test set MSE= 33.38\n",
      "\n",
      "All outputs (plots + processed_data.csv) are in 'output_files'\n"
     ]
    }
   ],
   "source": [
    "X = df[['GDP_Per_Capita_USD','Women_Emp_Pct','Fertility_Rate']]\n",
    "y = df['Women_Edu_Pct']\n",
    "\n",
    "pipeline = Pipeline([\n",
    "    ('scale', StandardScaler()),\n",
    "    ('rf',    RandomForestRegressor(random_state=42))\n",
    "])\n",
    "param_grid = {\n",
    "    'rf__n_estimators': [50,100],\n",
    "    'rf__max_depth':    [None,5],\n",
    "    'rf__min_samples_split': [2,5]\n",
    "}\n",
    "cv = KFold(n_splits=4, shuffle=True, random_state=1)\n",
    "grid = GridSearchCV(pipeline, param_grid, cv=cv, scoring='r2', n_jobs=-1)\n",
    "grid.fit(X, y)\n",
    "\n",
    "print(\"\\n=== Random Forest CV Results ===\")\n",
    "print(f\"Best params: {grid.best_params_}\")\n",
    "print(f\"Best CV R² : {grid.best_score_:.3f}\")\n",
    "\n",
    "X_tr, X_te, y_tr, y_te = train_test_split(X, y, test_size=0.2, random_state=42)\n",
    "best = grid.best_estimator_\n",
    "y_pred = best.predict(X_te)\n",
    "print(f\"Test set R² = {r2_score(y_te,y_pred):.3f}\")\n",
    "print(f\"Test set MSE= {mean_squared_error(y_te,y_pred):.2f}\")\n",
    "\n",
    "print(f\"\\nAll outputs (plots + processed_data.csv) are in '{output_dir}'\")"
   ]
  },
  {
   "cell_type": "markdown",
   "id": "47193526",
   "metadata": {},
   "source": [
    "Part 2 - ML"
   ]
  },
  {
   "cell_type": "markdown",
   "id": "aa4dddf3",
   "metadata": {},
   "source": [
    "For visualization purposes, a function to plot actual vs predicted values"
   ]
  },
  {
   "cell_type": "code",
   "execution_count": null,
   "id": "69a2f215",
   "metadata": {},
   "outputs": [
    {
     "name": "stdout",
     "output_type": "stream",
     "text": [
      "\n",
      "==================================================\n",
      "MACHINE LEARNING ANALYSIS\n",
      "==================================================\n",
      "\n",
      " Now predicting Women's Education Percentage using different ML models\n"
     ]
    }
   ],
   "source": [
    "print(\"\\n\")\n",
    "print(\"MACHINE LEARNING ANALYSIS\")\n",
    "print(\"\\n\")\n",
    "\n",
    "print(\"\\n Now predicting Women's Education Percentage using different ML models\")\n",
    "\n",
    "def plot_predictions(y_true, y_pred, model_name):\n",
    "    plt.figure(figsize=(8, 6))\n",
    "    plt.scatter(y_true, y_pred, color='blue', alpha=0.7)\n",
    "    plt.plot([y_true.min(), y_true.max()], [y_true.min(), y_true.max()], 'r--')\n",
    "    plt.title(f'Actual vs Predicted Values ({model_name})')\n",
    "    plt.xlabel('Actual Women\\'s Education (%)')\n",
    "    plt.ylabel('Predicted Women\\'s Education (%)')\n",
    "    plt.grid(True, alpha=0.3)\n",
    "    \n",
    "    # Add country labels to points\n",
    "    for i, country in enumerate(df.iloc[y_true.index]['Country']):\n",
    "        plt.annotate(country, (y_true.iloc[i], y_pred[i]), fontsize=8)\n",
    "    \n",
    "    plt.savefig(os.path.join(output_dir, f'ml_{model_name.lower()}_predictions.png'))\n",
    "    plt.close()"
   ]
  },
  {
   "cell_type": "markdown",
   "id": "9bdf1026",
   "metadata": {},
   "source": [
    "Prepare data & Seperate to training and testing sets"
   ]
  },
  {
   "cell_type": "code",
   "execution_count": 14,
   "id": "d0e4a6f8",
   "metadata": {},
   "outputs": [
    {
     "name": "stdout",
     "output_type": "stream",
     "text": [
      "\n",
      "Split the data into 25 training and 12 testing samples\n"
     ]
    }
   ],
   "source": [
    "X = df[['GDP_Per_Capita_USD', 'Women_Emp_Pct', 'Fertility_Rate']]\n",
    "y = df['Women_Edu_Pct']\n",
    "\n",
    "# Split into training and testing sets\n",
    "X_train, X_test, y_train, y_test = train_test_split(X, y, test_size=0.3, random_state=42)\n",
    "print(f\"\\nSplit the data into {X_train.shape[0]} training and {X_test.shape[0]} testing samples\")"
   ]
  },
  {
   "cell_type": "markdown",
   "id": "ba516ccd",
   "metadata": {},
   "source": [
    "1 - Linear Regression Model"
   ]
  },
  {
   "cell_type": "code",
   "execution_count": 15,
   "id": "6c2855e7",
   "metadata": {},
   "outputs": [
    {
     "name": "stdout",
     "output_type": "stream",
     "text": [
      "\n",
      "1. Training Linear Regression model...\n",
      "   - R² Score: 0.161 (higher is better, 1.0 is perfect)\n",
      "   - Mean Squared Error: 129.85 (lower is better)\n",
      "\n",
      "   Linear Regression Coefficients:\n",
      "   - GDP_Per_Capita_USD: 0.0002\n",
      "   - Women_Emp_Pct: 0.9268\n",
      "   - Fertility_Rate: 6.1267\n",
      "\n",
      "   Interpretation of coefficients:\n",
      "   - These values show how much Women's Education changes when each feature increases by 1 unit\n",
      "   - Positive coefficients mean they increase Women's Education\n",
      "   - Negative coefficients mean they decrease Women's Education\n"
     ]
    }
   ],
   "source": [
    "print(\"\\n1. Training Linear Regression model...\")\n",
    "lr_model = LinearRegression()\n",
    "lr_model.fit(X_train, y_train)\n",
    "lr_pred = lr_model.predict(X_test)\n",
    "\n",
    "# Calculate metrics\n",
    "lr_r2 = r2_score(y_test, lr_pred)\n",
    "lr_mse = mean_squared_error(y_test, lr_pred)\n",
    "print(f\"   - R² Score: {lr_r2:.3f} (higher is better, 1.0 is perfect)\")\n",
    "print(f\"   - Mean Squared Error: {lr_mse:.2f} (lower is better)\")\n",
    "\n",
    "# Print coefficients for interpretation\n",
    "print(\"\\n   Linear Regression Coefficients:\")\n",
    "for feature, coef in zip(X.columns, lr_model.coef_):\n",
    "    print(f\"   - {feature}: {coef:.4f}\")\n",
    "    \n",
    "# Explain what these coefficients mean\n",
    "print(\"\\n   Interpretation of coefficients:\")\n",
    "print(\"   - These values show how much Women's Education changes when each feature increases by 1 unit\")\n",
    "print(\"   - Positive coefficients mean they increase Women's Education\")\n",
    "print(\"   - Negative coefficients mean they decrease Women's Education\")\n",
    "\n",
    "# Create visualization\n",
    "plot_predictions(y_test, lr_pred, \"Linear Regression\")"
   ]
  },
  {
   "cell_type": "markdown",
   "id": "84c4ebd0",
   "metadata": {},
   "source": [
    "2 - Decision Tree Model"
   ]
  },
  {
   "cell_type": "code",
   "execution_count": 16,
   "id": "206a90b9",
   "metadata": {},
   "outputs": [
    {
     "name": "stdout",
     "output_type": "stream",
     "text": [
      "\n",
      "2. Training Decision Tree model...\n",
      "   - R² Score: -0.566\n",
      "   - Mean Squared Error: 242.17\n",
      "\n",
      "   Decision Tree Feature Importance:\n",
      "   - GDP_Per_Capita_USD: 0.6360\n",
      "   - Women_Emp_Pct: 0.1266\n",
      "   - Fertility_Rate: 0.2374\n"
     ]
    }
   ],
   "source": [
    "print(\"\\n2. Training Decision Tree model...\")\n",
    "dt_model = DecisionTreeRegressor(max_depth=3, random_state=42)  # Limiting depth for simplicity\n",
    "dt_model.fit(X_train, y_train)\n",
    "dt_pred = dt_model.predict(X_test)\n",
    "\n",
    "# Calculate metrics\n",
    "dt_r2 = r2_score(y_test, dt_pred)\n",
    "dt_mse = mean_squared_error(y_test, dt_pred)\n",
    "print(f\"   - R² Score: {dt_r2:.3f}\")\n",
    "print(f\"   - Mean Squared Error: {dt_mse:.2f}\")\n",
    "\n",
    "# Feature importance\n",
    "print(\"\\n   Decision Tree Feature Importance:\")\n",
    "for feature, importance in zip(X.columns, dt_model.feature_importances_):\n",
    "    print(f\"   - {feature}: {importance:.4f}\")\n",
    "\n",
    "# Create visualization\n",
    "plot_predictions(y_test, dt_pred, \"Decision Tree\")"
   ]
  },
  {
   "cell_type": "markdown",
   "id": "d426a38e",
   "metadata": {},
   "source": [
    "3 - Vector Regression"
   ]
  },
  {
   "cell_type": "code",
   "execution_count": 18,
   "id": "0a33e226",
   "metadata": {},
   "outputs": [
    {
     "name": "stdout",
     "output_type": "stream",
     "text": [
      "\n",
      "3. Training Support Vector Regression model...\n",
      "   - R² Score: -130.867\n",
      "   - Mean Squared Error: 20396.89\n"
     ]
    }
   ],
   "source": [
    "print(\"\\n3. Training Support Vector Regression model...\")\n",
    "# Using simpler parameters for demonstration\n",
    "svr_model = SVR(kernel='linear')  \n",
    "svr_model.fit(X_train, y_train)\n",
    "svr_pred = svr_model.predict(X_test)\n",
    "\n",
    "# Calculate metrics\n",
    "svr_r2 = r2_score(y_test, svr_pred)\n",
    "svr_mse = mean_squared_error(y_test, svr_pred)\n",
    "print(f\"   - R² Score: {svr_r2:.3f}\")\n",
    "print(f\"   - Mean Squared Error: {svr_mse:.2f}\")\n",
    "\n",
    "# Create visualization\n",
    "plot_predictions(y_test, svr_pred, \"SVR\")"
   ]
  },
  {
   "cell_type": "markdown",
   "id": "b77243ac",
   "metadata": {},
   "source": [
    "4 - Comparing All Models"
   ]
  },
  {
   "cell_type": "code",
   "execution_count": 19,
   "id": "0dbdd24c",
   "metadata": {},
   "outputs": [
    {
     "name": "stdout",
     "output_type": "stream",
     "text": [
      "\n",
      "4. Comparison of all models:\n",
      "\n",
      "   Model Rankings (by R² Score):\n",
      "   1. Random Forest: R²=0.824, MSE=33.38\n",
      "   2. Linear Regression: R²=0.161, MSE=129.85\n",
      "   3. Decision Tree: R²=-0.566, MSE=242.17\n",
      "   4. SVR: R²=-130.867, MSE=20396.89\n"
     ]
    }
   ],
   "source": [
    "print(\"\\n4. Comparison of all models:\")\n",
    "models = {\n",
    "    \"Linear Regression\": (lr_r2, lr_mse),\n",
    "    \"Decision Tree\": (dt_r2, dt_mse),\n",
    "    \"SVR\": (svr_r2, svr_mse),\n",
    "    \"Random Forest\": (r2_score(y_te, y_pred), mean_squared_error(y_te, y_pred))\n",
    "}\n",
    "\n",
    "# Sort models by R² score (higher is better)\n",
    "sorted_models = sorted(models.items(), key=lambda x: x[1][0], reverse=True)\n",
    "\n",
    "print(\"\\n   Model Rankings (by R² Score):\")\n",
    "for i, (model_name, (r2, mse)) in enumerate(sorted_models, 1):\n",
    "    print(f\"   {i}. {model_name}: R²={r2:.3f}, MSE={mse:.2f}\")"
   ]
  },
  {
   "cell_type": "markdown",
   "id": "b8eded5a",
   "metadata": {},
   "source": [
    "Bar Chart to Compare These Performances"
   ]
  },
  {
   "cell_type": "code",
   "execution_count": 20,
   "id": "44e35854",
   "metadata": {},
   "outputs": [],
   "source": [
    "plt.figure(figsize=(10, 6))\n",
    "model_names = [model[0] for model in sorted_models]\n",
    "r2_scores = [model[1][0] for model in sorted_models]\n",
    "\n",
    "plt.bar(model_names, r2_scores, color=['blue', 'green', 'orange', 'red'])\n",
    "plt.title('Model Comparison - R² Score (higher is better)')\n",
    "plt.xlabel('Model')\n",
    "plt.ylabel('R² Score')\n",
    "plt.ylim(0, 1)  # R² score is typically between 0 and 1\n",
    "plt.xticks(rotation=45)\n",
    "plt.grid(axis='y', linestyle='--', alpha=0.5)\n",
    "plt.tight_layout()\n",
    "plt.savefig(os.path.join(output_dir, 'ml_model_comparison.png'))\n",
    "plt.close()"
   ]
  },
  {
   "cell_type": "markdown",
   "id": "c9719543",
   "metadata": {},
   "source": [
    "5 - Predicting for Hypothetical Countries"
   ]
  },
  {
   "cell_type": "code",
   "execution_count": 21,
   "id": "6d755b2e",
   "metadata": {},
   "outputs": [
    {
     "name": "stdout",
     "output_type": "stream",
     "text": [
      "\n",
      "5. What-if Analysis: Predicting Women's Education for hypothetical countries\n",
      "\n",
      "   Using our best model (Random Forest) to predict Women's Education:\n",
      "   - High GDP, High Employment, Low Fertility:\n",
      "     GDP: $70,000, Women's Employment: 80%, Fertility Rate: 1.5\n",
      "     Predicted Women's Education: 47.55%\n",
      "   - High GDP, Low Employment, High Fertility:\n",
      "     GDP: $70,000, Women's Employment: 40%, Fertility Rate: 4.0\n",
      "     Predicted Women's Education: 32.20%\n",
      "   - Low GDP, High Employment, Low Fertility:\n",
      "     GDP: $10,000, Women's Employment: 80%, Fertility Rate: 1.5\n",
      "     Predicted Women's Education: 38.21%\n",
      "   - Low GDP, Low Employment, High Fertility:\n",
      "     GDP: $10,000, Women's Employment: 40%, Fertility Rate: 4.0\n",
      "     Predicted Women's Education: 25.47%\n"
     ]
    }
   ],
   "source": [
    "print(\"\\n5. What-if Analysis: Predicting Women's Education for hypothetical countries\")\n",
    "\n",
    "# Define hypothetical countries with different characteristics\n",
    "hypothetical_countries = [\n",
    "    {'name': 'High GDP, High Employment, Low Fertility', \n",
    "     'GDP_Per_Capita_USD': 70000, 'Women_Emp_Pct': 80, 'Fertility_Rate': 1.5},\n",
    "    {'name': 'High GDP, Low Employment, High Fertility', \n",
    "     'GDP_Per_Capita_USD': 70000, 'Women_Emp_Pct': 40, 'Fertility_Rate': 4.0},\n",
    "    {'name': 'Low GDP, High Employment, Low Fertility', \n",
    "     'GDP_Per_Capita_USD': 10000, 'Women_Emp_Pct': 80, 'Fertility_Rate': 1.5},\n",
    "    {'name': 'Low GDP, Low Employment, High Fertility', \n",
    "     'GDP_Per_Capita_USD': 10000, 'Women_Emp_Pct': 40, 'Fertility_Rate': 4.0}\n",
    "]\n",
    "\n",
    "# Create DataFrame for prediction\n",
    "hypo_df = pd.DataFrame(hypothetical_countries)\n",
    "hypo_features = hypo_df[['GDP_Per_Capita_USD', 'Women_Emp_Pct', 'Fertility_Rate']]\n",
    "\n",
    "best_model_name = sorted_models[0][0]\n",
    "if best_model_name == \"Linear Regression\":\n",
    "    best_model = lr_model\n",
    "elif best_model_name == \"Decision Tree\":\n",
    "    best_model = dt_model\n",
    "elif best_model_name == \"SVR\":\n",
    "    best_model = svr_model\n",
    "else:\n",
    "    best_model = best  # Random Forest from earlier\n",
    "\n",
    "hypo_predictions = best_model.predict(hypo_features)\n",
    "\n",
    "# Display predictions\n",
    "print(f\"\\n   Using our best model ({best_model_name}) to predict Women's Education:\")\n",
    "for i, country in enumerate(hypothetical_countries):\n",
    "    print(f\"   - {country['name']}:\")\n",
    "    print(f\"     GDP: ${country['GDP_Per_Capita_USD']:,}, Women's Employment: {country['Women_Emp_Pct']}%, Fertility Rate: {country['Fertility_Rate']}\")\n",
    "    print(f\"     Predicted Women's Education: {hypo_predictions[i]:.2f}%\")"
   ]
  },
  {
   "cell_type": "markdown",
   "id": "80c79454",
   "metadata": {},
   "source": [
    "Creating a Bar Chart for These Countries"
   ]
  },
  {
   "cell_type": "code",
   "execution_count": 22,
   "id": "43a926cc",
   "metadata": {},
   "outputs": [],
   "source": [
    "plt.figure(figsize=(12, 6))\n",
    "plt.bar(range(len(hypothetical_countries)), hypo_predictions, color='purple')\n",
    "plt.xticks(range(len(hypothetical_countries)), [c['name'] for c in hypothetical_countries], rotation=45, ha='right')\n",
    "plt.title(\"Predicted Women's Education for Hypothetical Countries\")\n",
    "plt.ylabel(\"Predicted Women's Education (%)\")\n",
    "plt.grid(axis='y', linestyle='--', alpha=0.5)\n",
    "plt.tight_layout()\n",
    "plt.savefig(os.path.join(output_dir, 'ml_hypothetical_predictions.png'))\n",
    "plt.close()"
   ]
  },
  {
   "cell_type": "markdown",
   "id": "79c22d7b",
   "metadata": {},
   "source": [
    "6- Investigating the relationship between GDP and Education in more detail"
   ]
  },
  {
   "cell_type": "code",
   "execution_count": 23,
   "id": "b38c05d0",
   "metadata": {},
   "outputs": [
    {
     "name": "stdout",
     "output_type": "stream",
     "text": [
      "\n",
      "6. Investigating relationship between GDP and Women's Education\n"
     ]
    }
   ],
   "source": [
    "print(\"\\n6. Investigating relationship between GDP and Women's Education\")\n",
    "\n",
    "# Create a range of GDP values\n",
    "gdp_range = np.linspace(df['GDP_Per_Capita_USD'].min(), df['GDP_Per_Capita_USD'].max(), 100)\n",
    "\n",
    "# Create predictions with other variables at their mean\n",
    "mean_emp = X['Women_Emp_Pct'].mean()\n",
    "mean_fertility = X['Fertility_Rate'].mean()\n",
    "\n",
    "# Create DataFrame for prediction\n",
    "gdp_test = pd.DataFrame({\n",
    "    'GDP_Per_Capita_USD': gdp_range,\n",
    "    'Women_Emp_Pct': [mean_emp] * 100,\n",
    "    'Fertility_Rate': [mean_fertility] * 100\n",
    "})\n",
    "\n",
    "# Make predictions\n",
    "gdp_predictions = best_model.predict(gdp_test)"
   ]
  },
  {
   "cell_type": "markdown",
   "id": "b01aa2fe",
   "metadata": {
    "vscode": {
     "languageId": "raw"
    }
   },
   "source": [
    "Plotting the Relationship"
   ]
  },
  {
   "cell_type": "code",
   "execution_count": 24,
   "id": "b17b5810",
   "metadata": {},
   "outputs": [],
   "source": [
    "plt.figure(figsize=(10, 6))\n",
    "plt.scatter(df['GDP_Per_Capita_USD'], df['Women_Edu_Pct'], alpha=0.6, label='Actual Data')\n",
    "plt.plot(gdp_range, gdp_predictions, 'r-', linewidth=2, label=f'Predicted by {best_model_name}')\n",
    "plt.title(\"GDP per Capita vs Women's Tertiary Education\")\n",
    "plt.xlabel(\"GDP per Capita (USD)\")\n",
    "plt.ylabel(\"Women's Education (%)\")\n",
    "plt.grid(True, alpha=0.3)\n",
    "plt.legend()\n",
    "plt.savefig(os.path.join(output_dir, 'ml_gdp_education_relationship.png'))\n",
    "plt.close()"
   ]
  },
  {
   "cell_type": "markdown",
   "id": "bbfe444c",
   "metadata": {},
   "source": [
    "7 - Calculate how much Women's Education increases per $10,000 GDP increase"
   ]
  },
  {
   "cell_type": "code",
   "execution_count": 25,
   "id": "743621f7",
   "metadata": {},
   "outputs": [
    {
     "name": "stdout",
     "output_type": "stream",
     "text": [
      "\n",
      "   Effect of GDP on Women's Education:\n",
      "   - For a $10,000 increase in GDP per capita, Women's Education changes by approximately 0.25%\n",
      "   - This is based on predictions from our Random Forest model\n",
      "\n",
      "Machine Learning analysis completed!\n",
      "Additional visualizations have been saved to the 'output_files' folder\n"
     ]
    }
   ],
   "source": [
    "gdp_diff = 10000\n",
    "index_low = 0\n",
    "index_high = next(i for i, gdp in enumerate(gdp_range) if gdp >= gdp_range[0] + gdp_diff)\n",
    "edu_diff = gdp_predictions[index_high] - gdp_predictions[index_low]\n",
    "\n",
    "print(f\"\\n   Effect of GDP on Women's Education:\")\n",
    "print(f\"   - For a ${gdp_diff:,} increase in GDP per capita, Women's Education changes by approximately {edu_diff:.2f}%\")\n",
    "print(f\"   - This is based on predictions from our {best_model_name} model\")\n",
    "\n",
    "print(\"\\nMachine Learning analysis completed!\")\n",
    "print(f\"Additional visualizations have been saved to the '{output_dir}' folder\")"
   ]
  }
 ],
 "metadata": {
  "kernelspec": {
   "display_name": "Python 3",
   "language": "python",
   "name": "python3"
  },
  "language_info": {
   "codemirror_mode": {
    "name": "ipython",
    "version": 3
   },
   "file_extension": ".py",
   "mimetype": "text/x-python",
   "name": "python",
   "nbconvert_exporter": "python",
   "pygments_lexer": "ipython3",
   "version": "3.12.6"
  }
 },
 "nbformat": 4,
 "nbformat_minor": 5
}
